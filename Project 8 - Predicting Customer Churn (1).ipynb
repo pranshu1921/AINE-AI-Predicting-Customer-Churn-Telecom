{
 "cells": [
  {
   "cell_type": "markdown",
   "metadata": {
    "id": "WWbqxNLZlFII"
   },
   "source": [
    "# Project 8: Machine Learning for Predictive Analytics"
   ]
  },
  {
   "cell_type": "markdown",
   "metadata": {},
   "source": [
    "### **Project : Reducing monthly churn by identifying high risk customers well in advance**\n"
   ]
  },
  {
   "cell_type": "markdown",
   "metadata": {},
   "source": [
    "## **About the Project:**\n",
    "The project relates to applying predictive analytics on customer churn. A major telecom company’s postpaid business of voice-only plans is struggling to maintain its strong foothold in local market because of:\n",
    "\n",
    "- High churn rate amongst customers leading to a revenue decline of ~500k USD every month\n",
    "- Decline in overall customer base (high churn rate combined with low acquisition rate), leading to a decline in total market share\n",
    "\n"
   ]
  },
  {
   "cell_type": "markdown",
   "metadata": {},
   "source": [
    "**Aim:** \n",
    "\n",
    "1. Build a classification model to predict churners one month in advance\n",
    "2. Identify key churn drivers\n",
    "\n",
    "**Hypothesis:** Company CEO believes that existing models can predict churners precisely, but it’s too late to take any retention actions, as customer usage has significantly declined by then\n"
   ]
  },
  {
   "cell_type": "markdown",
   "metadata": {
    "id": "RCrmVhYDlFIJ"
   },
   "source": [
    "## Packages and setup"
   ]
  },
  {
   "cell_type": "code",
   "execution_count": 1,
   "metadata": {
    "id": "duCWbBPRlFIK"
   },
   "outputs": [],
   "source": [
    "import numpy as np\n",
    "import pandas as pd \n",
    "import seaborn as sns\n",
    "import matplotlib.pyplot as plt\n",
    "import os\n",
    "\n",
    "from scipy.stats import shapiro\n",
    "import scipy.stats as stats\n",
    "\n",
    "#parameter settings\n",
    "from IPython.core.interactiveshell import InteractiveShell\n",
    "InteractiveShell.ast_node_interactivity = \"all\"\n",
    "import warnings\n",
    "warnings.filterwarnings(\"ignore\")\n",
    "warnings.simplefilter(action='ignore', category=FutureWarning)"
   ]
  },
  {
   "cell_type": "markdown",
   "metadata": {
    "id": "VoDtZpyJlFIK"
   },
   "source": [
    "## Reading data and initial processing"
   ]
  },
  {
   "cell_type": "code",
   "execution_count": 2,
   "metadata": {
    "id": "br8Y20g5lFIL"
   },
   "outputs": [],
   "source": [
    "#edit the file location of raw data set\n",
    "cust_df=pd.read_csv(\"C:/Users/Princy/Downloads/Telecom Data - Machine Learning/Telecom Data - Machine Learning/Telecom Data.csv\")"
   ]
  },
  {
   "cell_type": "markdown",
   "metadata": {
    "id": "arTuXCYclFIL"
   },
   "source": [
    "## Exercise"
   ]
  },
  {
   "cell_type": "markdown",
   "metadata": {
    "id": "46n6OhqOlFIN"
   },
   "source": [
    "## Placeholder for your analysis"
   ]
  },
  {
   "cell_type": "code",
   "execution_count": 3,
   "metadata": {
    "id": "xDu2UNTvlFIO"
   },
   "outputs": [
    {
     "data": {
      "text/plain": [
       "(51047, 58)"
      ]
     },
     "execution_count": 3,
     "metadata": {},
     "output_type": "execute_result"
    }
   ],
   "source": [
    "# Type your code here to explore and understand the data better\n",
    "\n",
    "#e.g., identify the dimension of cust_df\n",
    "cust_df.shape\n",
    "\n",
    "\n"
   ]
  },
  {
   "cell_type": "code",
   "execution_count": 4,
   "metadata": {},
   "outputs": [
    {
     "data": {
      "text/plain": [
       "Index(['CustomerID', 'Churn', 'MonthlyRevenue', 'MonthlyMinutes',\n",
       "       'TotalRecurringCharge', 'DirectorAssistedCalls', 'OverageMinutes',\n",
       "       'RoamingCalls', 'PercChangeMinutes', 'PercChangeRevenues',\n",
       "       'DroppedCalls', 'BlockedCalls', 'UnansweredCalls', 'CustomerCareCalls',\n",
       "       'ThreewayCalls', 'ReceivedCalls', 'OutboundCalls', 'InboundCalls',\n",
       "       'PeakCallsInOut', 'OffPeakCallsInOut', 'DroppedBlockedCalls',\n",
       "       'CallForwardingCalls', 'CallWaitingCalls', 'MonthsInService',\n",
       "       'UniqueSubs', 'ActiveSubs', 'ServiceArea', 'Handsets', 'HandsetModels',\n",
       "       'CurrentEquipmentDays', 'AgeHH1', 'AgeHH2', 'ChildrenInHH',\n",
       "       'HandsetRefurbished', 'HandsetWebCapable', 'TruckOwner', 'RVOwner',\n",
       "       'Homeownership', 'BuysViaMailOrder', 'RespondsToMailOffers',\n",
       "       'OptOutMailings', 'NonUSTravel', 'OwnsComputer', 'HasCreditCard',\n",
       "       'RetentionCalls', 'RetentionOffersAccepted', 'NewCellphoneUser',\n",
       "       'NotNewCellphoneUser', 'ReferralsMadeBySubscriber', 'IncomeGroup',\n",
       "       'OwnsMotorcycle', 'AdjustmentsToCreditRating', 'HandsetPrice',\n",
       "       'MadeCallToRetentionTeam', 'CreditRating', 'PrizmCode', 'Occupation',\n",
       "       'MaritalStatus'],\n",
       "      dtype='object')"
      ]
     },
     "execution_count": 4,
     "metadata": {},
     "output_type": "execute_result"
    }
   ],
   "source": [
    "cust_df.columns"
   ]
  },
  {
   "cell_type": "code",
   "execution_count": 5,
   "metadata": {},
   "outputs": [
    {
     "data": {
      "text/plain": [
       "CustomerID                     0\n",
       "Churn                          0\n",
       "MonthlyRevenue               156\n",
       "MonthlyMinutes               156\n",
       "TotalRecurringCharge         156\n",
       "DirectorAssistedCalls        156\n",
       "OverageMinutes               156\n",
       "RoamingCalls                 156\n",
       "PercChangeMinutes            367\n",
       "PercChangeRevenues           367\n",
       "DroppedCalls                   0\n",
       "BlockedCalls                   0\n",
       "UnansweredCalls                0\n",
       "CustomerCareCalls              0\n",
       "ThreewayCalls                  0\n",
       "ReceivedCalls                  0\n",
       "OutboundCalls                  0\n",
       "InboundCalls                   0\n",
       "PeakCallsInOut                 0\n",
       "OffPeakCallsInOut              0\n",
       "DroppedBlockedCalls            0\n",
       "CallForwardingCalls            0\n",
       "CallWaitingCalls               0\n",
       "MonthsInService                0\n",
       "UniqueSubs                     0\n",
       "ActiveSubs                     0\n",
       "ServiceArea                   24\n",
       "Handsets                       1\n",
       "HandsetModels                  1\n",
       "CurrentEquipmentDays           1\n",
       "AgeHH1                       909\n",
       "AgeHH2                       909\n",
       "ChildrenInHH                   0\n",
       "HandsetRefurbished             0\n",
       "HandsetWebCapable              0\n",
       "TruckOwner                     0\n",
       "RVOwner                        0\n",
       "Homeownership                  0\n",
       "BuysViaMailOrder               0\n",
       "RespondsToMailOffers           0\n",
       "OptOutMailings                 0\n",
       "NonUSTravel                    0\n",
       "OwnsComputer                   0\n",
       "HasCreditCard                  0\n",
       "RetentionCalls                 0\n",
       "RetentionOffersAccepted        0\n",
       "NewCellphoneUser               0\n",
       "NotNewCellphoneUser            0\n",
       "ReferralsMadeBySubscriber      0\n",
       "IncomeGroup                    0\n",
       "OwnsMotorcycle                 0\n",
       "AdjustmentsToCreditRating      0\n",
       "HandsetPrice                   0\n",
       "MadeCallToRetentionTeam        0\n",
       "CreditRating                   0\n",
       "PrizmCode                      0\n",
       "Occupation                     0\n",
       "MaritalStatus                  0\n",
       "dtype: int64"
      ]
     },
     "execution_count": 5,
     "metadata": {},
     "output_type": "execute_result"
    }
   ],
   "source": [
    "cust_df.isnull().sum()"
   ]
  },
  {
   "cell_type": "markdown",
   "metadata": {
    "id": "rsOVIvHSlFIO"
   },
   "source": [
    "## Q1. Detect and resolve problems in the data (Missing value, Outliers, Unexpected value, etc.)"
   ]
  },
  {
   "cell_type": "markdown",
   "metadata": {
    "id": "qoX4uCUIlFIP"
   },
   "source": [
    "### Q1.1 How many customers had zero monthly revenue?"
   ]
  },
  {
   "cell_type": "code",
   "execution_count": 6,
   "metadata": {
    "id": "qSmjZ8QQlFIP"
   },
   "outputs": [
    {
     "data": {
      "text/plain": [
       "(51041, 58)"
      ]
     },
     "execution_count": 6,
     "metadata": {},
     "output_type": "execute_result"
    }
   ],
   "source": [
    "#How many customers had zero monthly revenue?\n",
    "#Exclude the customers with zero monthly revenue from cust_df and from any subsequent analysis\n",
    "cust_df = cust_df[cust_df['MonthlyRevenue'] != 0]\n",
    "cust_df.shape"
   ]
  },
  {
   "cell_type": "markdown",
   "metadata": {
    "id": "IEil-5AblFIP"
   },
   "source": [
    "### Q1.2 How many columns has missing values percentage > 5%"
   ]
  },
  {
   "cell_type": "code",
   "execution_count": 7,
   "metadata": {
    "id": "9r1UrF0PlFIQ"
   },
   "outputs": [
    {
     "data": {
      "text/plain": [
       "CustomerID                   0.000000\n",
       "Churn                        0.000000\n",
       "MonthlyRevenue               0.305637\n",
       "MonthlyMinutes               0.305637\n",
       "TotalRecurringCharge         0.305637\n",
       "DirectorAssistedCalls        0.305637\n",
       "OverageMinutes               0.305637\n",
       "RoamingCalls                 0.305637\n",
       "PercChangeMinutes            0.715111\n",
       "PercChangeRevenues           0.715111\n",
       "DroppedCalls                 0.000000\n",
       "BlockedCalls                 0.000000\n",
       "UnansweredCalls              0.000000\n",
       "CustomerCareCalls            0.000000\n",
       "ThreewayCalls                0.000000\n",
       "ReceivedCalls                0.000000\n",
       "OutboundCalls                0.000000\n",
       "InboundCalls                 0.000000\n",
       "PeakCallsInOut               0.000000\n",
       "OffPeakCallsInOut            0.000000\n",
       "DroppedBlockedCalls          0.000000\n",
       "CallForwardingCalls          0.000000\n",
       "CallWaitingCalls             0.000000\n",
       "MonthsInService              0.000000\n",
       "UniqueSubs                   0.000000\n",
       "ActiveSubs                   0.000000\n",
       "ServiceArea                  0.047021\n",
       "Handsets                     0.001959\n",
       "HandsetModels                0.001959\n",
       "CurrentEquipmentDays         0.001959\n",
       "AgeHH1                       1.780921\n",
       "AgeHH2                       1.780921\n",
       "ChildrenInHH                 0.000000\n",
       "HandsetRefurbished           0.000000\n",
       "HandsetWebCapable            0.000000\n",
       "TruckOwner                   0.000000\n",
       "RVOwner                      0.000000\n",
       "Homeownership                0.000000\n",
       "BuysViaMailOrder             0.000000\n",
       "RespondsToMailOffers         0.000000\n",
       "OptOutMailings               0.000000\n",
       "NonUSTravel                  0.000000\n",
       "OwnsComputer                 0.000000\n",
       "HasCreditCard                0.000000\n",
       "RetentionCalls               0.000000\n",
       "RetentionOffersAccepted      0.000000\n",
       "NewCellphoneUser             0.000000\n",
       "NotNewCellphoneUser          0.000000\n",
       "ReferralsMadeBySubscriber    0.000000\n",
       "IncomeGroup                  0.000000\n",
       "OwnsMotorcycle               0.000000\n",
       "AdjustmentsToCreditRating    0.000000\n",
       "HandsetPrice                 0.000000\n",
       "MadeCallToRetentionTeam      0.000000\n",
       "CreditRating                 0.000000\n",
       "PrizmCode                    0.000000\n",
       "Occupation                   0.000000\n",
       "MaritalStatus                0.000000\n",
       "dtype: float64"
      ]
     },
     "execution_count": 7,
     "metadata": {},
     "output_type": "execute_result"
    }
   ],
   "source": [
    "#Calculate for each column % of missing value in the data\n",
    "#How many columns has missing values percentage > 5%\n",
    "#What strategy should be used for imputation?\n",
    "percent_missing = cust_df.isnull().sum() / len(cust_df) * 100\n",
    "percent_missing"
   ]
  },
  {
   "cell_type": "code",
   "execution_count": 8,
   "metadata": {},
   "outputs": [],
   "source": [
    "cust_df.dropna(axis=0, how='any', thresh=None, subset=None, inplace = True)"
   ]
  },
  {
   "cell_type": "code",
   "execution_count": 9,
   "metadata": {},
   "outputs": [
    {
     "data": {
      "text/html": [
       "<div>\n",
       "<style scoped>\n",
       "    .dataframe tbody tr th:only-of-type {\n",
       "        vertical-align: middle;\n",
       "    }\n",
       "\n",
       "    .dataframe tbody tr th {\n",
       "        vertical-align: top;\n",
       "    }\n",
       "\n",
       "    .dataframe thead th {\n",
       "        text-align: right;\n",
       "    }\n",
       "</style>\n",
       "<table border=\"1\" class=\"dataframe\">\n",
       "  <thead>\n",
       "    <tr style=\"text-align: right;\">\n",
       "      <th></th>\n",
       "      <th>CustomerID</th>\n",
       "      <th>Churn</th>\n",
       "      <th>MonthlyRevenue</th>\n",
       "      <th>MonthlyMinutes</th>\n",
       "      <th>TotalRecurringCharge</th>\n",
       "      <th>DirectorAssistedCalls</th>\n",
       "      <th>OverageMinutes</th>\n",
       "      <th>RoamingCalls</th>\n",
       "      <th>PercChangeMinutes</th>\n",
       "      <th>PercChangeRevenues</th>\n",
       "      <th>...</th>\n",
       "      <th>ReferralsMadeBySubscriber</th>\n",
       "      <th>IncomeGroup</th>\n",
       "      <th>OwnsMotorcycle</th>\n",
       "      <th>AdjustmentsToCreditRating</th>\n",
       "      <th>HandsetPrice</th>\n",
       "      <th>MadeCallToRetentionTeam</th>\n",
       "      <th>CreditRating</th>\n",
       "      <th>PrizmCode</th>\n",
       "      <th>Occupation</th>\n",
       "      <th>MaritalStatus</th>\n",
       "    </tr>\n",
       "  </thead>\n",
       "  <tbody>\n",
       "    <tr>\n",
       "      <th>0</th>\n",
       "      <td>3000002</td>\n",
       "      <td>Yes</td>\n",
       "      <td>24.00</td>\n",
       "      <td>219.0</td>\n",
       "      <td>22.0</td>\n",
       "      <td>0.25</td>\n",
       "      <td>0.0</td>\n",
       "      <td>0.0</td>\n",
       "      <td>-157.0</td>\n",
       "      <td>-19.0</td>\n",
       "      <td>...</td>\n",
       "      <td>0</td>\n",
       "      <td>4</td>\n",
       "      <td>No</td>\n",
       "      <td>0</td>\n",
       "      <td>30</td>\n",
       "      <td>Yes</td>\n",
       "      <td>1-Highest</td>\n",
       "      <td>Suburban</td>\n",
       "      <td>Professional</td>\n",
       "      <td>No</td>\n",
       "    </tr>\n",
       "    <tr>\n",
       "      <th>1</th>\n",
       "      <td>3000010</td>\n",
       "      <td>Yes</td>\n",
       "      <td>16.99</td>\n",
       "      <td>10.0</td>\n",
       "      <td>17.0</td>\n",
       "      <td>0.00</td>\n",
       "      <td>0.0</td>\n",
       "      <td>0.0</td>\n",
       "      <td>-4.0</td>\n",
       "      <td>0.0</td>\n",
       "      <td>...</td>\n",
       "      <td>0</td>\n",
       "      <td>5</td>\n",
       "      <td>No</td>\n",
       "      <td>0</td>\n",
       "      <td>30</td>\n",
       "      <td>No</td>\n",
       "      <td>4-Medium</td>\n",
       "      <td>Suburban</td>\n",
       "      <td>Professional</td>\n",
       "      <td>Yes</td>\n",
       "    </tr>\n",
       "    <tr>\n",
       "      <th>2</th>\n",
       "      <td>3000014</td>\n",
       "      <td>No</td>\n",
       "      <td>38.00</td>\n",
       "      <td>8.0</td>\n",
       "      <td>38.0</td>\n",
       "      <td>0.00</td>\n",
       "      <td>0.0</td>\n",
       "      <td>0.0</td>\n",
       "      <td>-2.0</td>\n",
       "      <td>0.0</td>\n",
       "      <td>...</td>\n",
       "      <td>0</td>\n",
       "      <td>6</td>\n",
       "      <td>No</td>\n",
       "      <td>0</td>\n",
       "      <td>Unknown</td>\n",
       "      <td>No</td>\n",
       "      <td>3-Good</td>\n",
       "      <td>Town</td>\n",
       "      <td>Crafts</td>\n",
       "      <td>Yes</td>\n",
       "    </tr>\n",
       "    <tr>\n",
       "      <th>3</th>\n",
       "      <td>3000022</td>\n",
       "      <td>No</td>\n",
       "      <td>82.28</td>\n",
       "      <td>1312.0</td>\n",
       "      <td>75.0</td>\n",
       "      <td>1.24</td>\n",
       "      <td>0.0</td>\n",
       "      <td>0.0</td>\n",
       "      <td>157.0</td>\n",
       "      <td>8.1</td>\n",
       "      <td>...</td>\n",
       "      <td>0</td>\n",
       "      <td>6</td>\n",
       "      <td>No</td>\n",
       "      <td>0</td>\n",
       "      <td>10</td>\n",
       "      <td>No</td>\n",
       "      <td>4-Medium</td>\n",
       "      <td>Other</td>\n",
       "      <td>Other</td>\n",
       "      <td>No</td>\n",
       "    </tr>\n",
       "    <tr>\n",
       "      <th>4</th>\n",
       "      <td>3000026</td>\n",
       "      <td>Yes</td>\n",
       "      <td>17.14</td>\n",
       "      <td>0.0</td>\n",
       "      <td>17.0</td>\n",
       "      <td>0.00</td>\n",
       "      <td>0.0</td>\n",
       "      <td>0.0</td>\n",
       "      <td>0.0</td>\n",
       "      <td>-0.2</td>\n",
       "      <td>...</td>\n",
       "      <td>0</td>\n",
       "      <td>9</td>\n",
       "      <td>No</td>\n",
       "      <td>1</td>\n",
       "      <td>10</td>\n",
       "      <td>No</td>\n",
       "      <td>1-Highest</td>\n",
       "      <td>Other</td>\n",
       "      <td>Professional</td>\n",
       "      <td>Yes</td>\n",
       "    </tr>\n",
       "    <tr>\n",
       "      <th>...</th>\n",
       "      <td>...</td>\n",
       "      <td>...</td>\n",
       "      <td>...</td>\n",
       "      <td>...</td>\n",
       "      <td>...</td>\n",
       "      <td>...</td>\n",
       "      <td>...</td>\n",
       "      <td>...</td>\n",
       "      <td>...</td>\n",
       "      <td>...</td>\n",
       "      <td>...</td>\n",
       "      <td>...</td>\n",
       "      <td>...</td>\n",
       "      <td>...</td>\n",
       "      <td>...</td>\n",
       "      <td>...</td>\n",
       "      <td>...</td>\n",
       "      <td>...</td>\n",
       "      <td>...</td>\n",
       "      <td>...</td>\n",
       "      <td>...</td>\n",
       "    </tr>\n",
       "    <tr>\n",
       "      <th>51033</th>\n",
       "      <td>3399882</td>\n",
       "      <td>Yes</td>\n",
       "      <td>38.34</td>\n",
       "      <td>320.0</td>\n",
       "      <td>30.0</td>\n",
       "      <td>0.99</td>\n",
       "      <td>21.0</td>\n",
       "      <td>0.0</td>\n",
       "      <td>-66.0</td>\n",
       "      <td>-8.3</td>\n",
       "      <td>...</td>\n",
       "      <td>0</td>\n",
       "      <td>6</td>\n",
       "      <td>No</td>\n",
       "      <td>0</td>\n",
       "      <td>Unknown</td>\n",
       "      <td>No</td>\n",
       "      <td>1-Highest</td>\n",
       "      <td>Other</td>\n",
       "      <td>Professional</td>\n",
       "      <td>No</td>\n",
       "    </tr>\n",
       "    <tr>\n",
       "      <th>51037</th>\n",
       "      <td>3399906</td>\n",
       "      <td>No</td>\n",
       "      <td>31.92</td>\n",
       "      <td>63.0</td>\n",
       "      <td>17.0</td>\n",
       "      <td>0.00</td>\n",
       "      <td>43.0</td>\n",
       "      <td>0.0</td>\n",
       "      <td>-38.0</td>\n",
       "      <td>-13.2</td>\n",
       "      <td>...</td>\n",
       "      <td>0</td>\n",
       "      <td>3</td>\n",
       "      <td>No</td>\n",
       "      <td>0</td>\n",
       "      <td>Unknown</td>\n",
       "      <td>No</td>\n",
       "      <td>3-Good</td>\n",
       "      <td>Other</td>\n",
       "      <td>Other</td>\n",
       "      <td>Yes</td>\n",
       "    </tr>\n",
       "    <tr>\n",
       "      <th>51040</th>\n",
       "      <td>3399942</td>\n",
       "      <td>No</td>\n",
       "      <td>71.99</td>\n",
       "      <td>724.0</td>\n",
       "      <td>70.0</td>\n",
       "      <td>0.00</td>\n",
       "      <td>4.0</td>\n",
       "      <td>0.9</td>\n",
       "      <td>-40.0</td>\n",
       "      <td>-2.0</td>\n",
       "      <td>...</td>\n",
       "      <td>0</td>\n",
       "      <td>7</td>\n",
       "      <td>No</td>\n",
       "      <td>0</td>\n",
       "      <td>Unknown</td>\n",
       "      <td>No</td>\n",
       "      <td>1-Highest</td>\n",
       "      <td>Other</td>\n",
       "      <td>Professional</td>\n",
       "      <td>Unknown</td>\n",
       "    </tr>\n",
       "    <tr>\n",
       "      <th>51041</th>\n",
       "      <td>3399946</td>\n",
       "      <td>Yes</td>\n",
       "      <td>117.49</td>\n",
       "      <td>384.0</td>\n",
       "      <td>30.0</td>\n",
       "      <td>0.00</td>\n",
       "      <td>250.0</td>\n",
       "      <td>0.0</td>\n",
       "      <td>0.0</td>\n",
       "      <td>0.0</td>\n",
       "      <td>...</td>\n",
       "      <td>0</td>\n",
       "      <td>2</td>\n",
       "      <td>No</td>\n",
       "      <td>0</td>\n",
       "      <td>30</td>\n",
       "      <td>No</td>\n",
       "      <td>5-Low</td>\n",
       "      <td>Other</td>\n",
       "      <td>Professional</td>\n",
       "      <td>Yes</td>\n",
       "    </tr>\n",
       "    <tr>\n",
       "      <th>51043</th>\n",
       "      <td>3399974</td>\n",
       "      <td>No</td>\n",
       "      <td>95.17</td>\n",
       "      <td>1745.0</td>\n",
       "      <td>85.0</td>\n",
       "      <td>0.99</td>\n",
       "      <td>45.0</td>\n",
       "      <td>4.7</td>\n",
       "      <td>122.0</td>\n",
       "      <td>15.9</td>\n",
       "      <td>...</td>\n",
       "      <td>0</td>\n",
       "      <td>9</td>\n",
       "      <td>No</td>\n",
       "      <td>1</td>\n",
       "      <td>60</td>\n",
       "      <td>No</td>\n",
       "      <td>3-Good</td>\n",
       "      <td>Other</td>\n",
       "      <td>Other</td>\n",
       "      <td>No</td>\n",
       "    </tr>\n",
       "  </tbody>\n",
       "</table>\n",
       "<p>49748 rows × 58 columns</p>\n",
       "</div>"
      ],
      "text/plain": [
       "       CustomerID Churn  MonthlyRevenue  MonthlyMinutes  TotalRecurringCharge  \\\n",
       "0         3000002   Yes           24.00           219.0                  22.0   \n",
       "1         3000010   Yes           16.99            10.0                  17.0   \n",
       "2         3000014    No           38.00             8.0                  38.0   \n",
       "3         3000022    No           82.28          1312.0                  75.0   \n",
       "4         3000026   Yes           17.14             0.0                  17.0   \n",
       "...           ...   ...             ...             ...                   ...   \n",
       "51033     3399882   Yes           38.34           320.0                  30.0   \n",
       "51037     3399906    No           31.92            63.0                  17.0   \n",
       "51040     3399942    No           71.99           724.0                  70.0   \n",
       "51041     3399946   Yes          117.49           384.0                  30.0   \n",
       "51043     3399974    No           95.17          1745.0                  85.0   \n",
       "\n",
       "       DirectorAssistedCalls  OverageMinutes  RoamingCalls  PercChangeMinutes  \\\n",
       "0                       0.25             0.0           0.0             -157.0   \n",
       "1                       0.00             0.0           0.0               -4.0   \n",
       "2                       0.00             0.0           0.0               -2.0   \n",
       "3                       1.24             0.0           0.0              157.0   \n",
       "4                       0.00             0.0           0.0                0.0   \n",
       "...                      ...             ...           ...                ...   \n",
       "51033                   0.99            21.0           0.0              -66.0   \n",
       "51037                   0.00            43.0           0.0              -38.0   \n",
       "51040                   0.00             4.0           0.9              -40.0   \n",
       "51041                   0.00           250.0           0.0                0.0   \n",
       "51043                   0.99            45.0           4.7              122.0   \n",
       "\n",
       "       PercChangeRevenues  ...  ReferralsMadeBySubscriber  IncomeGroup  \\\n",
       "0                   -19.0  ...                          0            4   \n",
       "1                     0.0  ...                          0            5   \n",
       "2                     0.0  ...                          0            6   \n",
       "3                     8.1  ...                          0            6   \n",
       "4                    -0.2  ...                          0            9   \n",
       "...                   ...  ...                        ...          ...   \n",
       "51033                -8.3  ...                          0            6   \n",
       "51037               -13.2  ...                          0            3   \n",
       "51040                -2.0  ...                          0            7   \n",
       "51041                 0.0  ...                          0            2   \n",
       "51043                15.9  ...                          0            9   \n",
       "\n",
       "       OwnsMotorcycle  AdjustmentsToCreditRating  HandsetPrice  \\\n",
       "0                  No                          0            30   \n",
       "1                  No                          0            30   \n",
       "2                  No                          0       Unknown   \n",
       "3                  No                          0            10   \n",
       "4                  No                          1            10   \n",
       "...               ...                        ...           ...   \n",
       "51033              No                          0       Unknown   \n",
       "51037              No                          0       Unknown   \n",
       "51040              No                          0       Unknown   \n",
       "51041              No                          0            30   \n",
       "51043              No                          1            60   \n",
       "\n",
       "       MadeCallToRetentionTeam  CreditRating  PrizmCode    Occupation  \\\n",
       "0                          Yes     1-Highest   Suburban  Professional   \n",
       "1                           No      4-Medium   Suburban  Professional   \n",
       "2                           No        3-Good       Town        Crafts   \n",
       "3                           No      4-Medium      Other         Other   \n",
       "4                           No     1-Highest      Other  Professional   \n",
       "...                        ...           ...        ...           ...   \n",
       "51033                       No     1-Highest      Other  Professional   \n",
       "51037                       No        3-Good      Other         Other   \n",
       "51040                       No     1-Highest      Other  Professional   \n",
       "51041                       No         5-Low      Other  Professional   \n",
       "51043                       No        3-Good      Other         Other   \n",
       "\n",
       "       MaritalStatus  \n",
       "0                 No  \n",
       "1                Yes  \n",
       "2                Yes  \n",
       "3                 No  \n",
       "4                Yes  \n",
       "...              ...  \n",
       "51033             No  \n",
       "51037            Yes  \n",
       "51040        Unknown  \n",
       "51041            Yes  \n",
       "51043             No  \n",
       "\n",
       "[49748 rows x 58 columns]"
      ]
     },
     "execution_count": 9,
     "metadata": {},
     "output_type": "execute_result"
    }
   ],
   "source": [
    "cust_df"
   ]
  },
  {
   "cell_type": "markdown",
   "metadata": {
    "id": "wtaCwTMqlFIQ"
   },
   "source": [
    "<mark>__Result:__\n",
    "    \n",
    "All the missing values in each column are <5% of the total data, so we can just omit these row values from the dataset"
   ]
  },
  {
   "cell_type": "markdown",
   "metadata": {
    "id": "MMq6xiX_lFIQ"
   },
   "source": [
    "### Q1.3 For columns, \"UniqueSubs\" and \"DirectorAssistedCalls\" remove outliers, if any"
   ]
  },
  {
   "cell_type": "code",
   "execution_count": 10,
   "metadata": {
    "id": "RurTZpXRlFIR",
    "outputId": "79b9bba5-8ccb-47ef-db45-a49f5e4f1168"
   },
   "outputs": [
    {
     "data": {
      "text/plain": [
       "<matplotlib.axes._subplots.AxesSubplot at 0x19d1b6b0df0>"
      ]
     },
     "execution_count": 10,
     "metadata": {},
     "output_type": "execute_result"
    },
    {
     "data": {
      "image/png": "[encoded data removed]",
      "text/plain": [
       "<Figure size 432x288 with 1 Axes>"
      ]
     },
     "metadata": {
      "needs_background": "light"
     },
     "output_type": "display_data"
    }
   ],
   "source": [
    "#plot box plot using pandas for columns \"UniqueSubs\" and \"DirectorAssistedCalls\"\n",
    "cols=[\"UniqueSubs\",\"DirectorAssistedCalls\"]\n",
    "cust_df.boxplot(column=cols)"
   ]
  },
  {
   "cell_type": "code",
   "execution_count": 11,
   "metadata": {
    "id": "MXMbtk5TlFIS"
   },
   "outputs": [],
   "source": [
    "#Remove top 1% outliers from the above mentioned two columns and plot the box plot again\n",
    "#Use \"quantile\" function to identify top 1% outliers\n",
    "out_cols = ['UniqueSubs', 'DirectorAssistedCalls']\n",
    "Q1 = cust_df[out_cols].quantile(.25)\n",
    "Q3 = cust_df[out_cols].quantile(.75)\n",
    "IQR = Q3 - Q1\n",
    "cust_df = cust_df[~((cust_df[out_cols] < (Q1 - 1.5 * IQR)) |(cust_df[out_cols] > (Q3 + 1.5 * IQR))).any(axis=1)]"
   ]
  },
  {
   "cell_type": "code",
   "execution_count": 12,
   "metadata": {},
   "outputs": [
    {
     "data": {
      "text/plain": [
       "<matplotlib.axes._subplots.AxesSubplot at 0x19d1b9c35b0>"
      ]
     },
     "execution_count": 12,
     "metadata": {},
     "output_type": "execute_result"
    },
    {
     "data": {
      "image/png": "[encoded data removed]",
      "text/plain": [
       "<Figure size 432x288 with 1 Axes>"
      ]
     },
     "metadata": {
      "needs_background": "light"
     },
     "output_type": "display_data"
    }
   ],
   "source": [
    "cols=[\"UniqueSubs\",\"DirectorAssistedCalls\"]\n",
    "cust_df.boxplot(column=cols)"
   ]
  },
  {
   "cell_type": "markdown",
   "metadata": {
    "id": "j9nGdg_jlFIS"
   },
   "source": [
    "## Q2. Perform exploratory analysis to analyze customer churn"
   ]
  },
  {
   "cell_type": "markdown",
   "metadata": {
    "id": "kuLvZj8LlFIS"
   },
   "source": [
    "### Q2.1 Does customers with high overage minutes also have high revenue?"
   ]
  },
  {
   "cell_type": "code",
   "execution_count": 13,
   "metadata": {
    "id": "9iwrU-MelFIT"
   },
   "outputs": [
    {
     "data": {
      "text/plain": [
       "<matplotlib.axes._subplots.AxesSubplot at 0x19d1e062be0>"
      ]
     },
     "execution_count": 13,
     "metadata": {},
     "output_type": "execute_result"
    },
    {
     "data": {
      "image/png": "[encoded data removed]",
      "text/plain": [
       "<Figure size 432x288 with 1 Axes>"
      ]
     },
     "metadata": {
      "needs_background": "light"
     },
     "output_type": "display_data"
    }
   ],
   "source": [
    "#use scatter plot to find the correlation between monthly revenue and overage minutes\n",
    "sns.scatterplot(x = 'MonthlyRevenue', y = 'OverageMinutes', data = cust_df)"
   ]
  },
  {
   "cell_type": "markdown",
   "metadata": {
    "id": "p0c7mh47lFIT"
   },
   "source": [
    "<mark>__Result:__\n",
    "    \n",
    "Type your interpretation here based on the scatter plot analysis"
   ]
  },
  {
   "cell_type": "markdown",
   "metadata": {
    "id": "ypcm12s6lFIT"
   },
   "source": [
    "### Q2.2 Does high number of active subscribers lead to low monthly revenue?"
   ]
  },
  {
   "cell_type": "code",
   "execution_count": 14,
   "metadata": {
    "id": "K_Hbu6DvlFIU"
   },
   "outputs": [
    {
     "data": {
      "text/plain": [
       "<seaborn.axisgrid.FacetGrid at 0x19d1ccae880>"
      ]
     },
     "execution_count": 14,
     "metadata": {},
     "output_type": "execute_result"
    },
    {
     "data": {
      "image/png": "[encoded data removed]",
      "text/plain": [
       "<Figure size 360x360 with 1 Axes>"
      ]
     },
     "metadata": {
      "needs_background": "light"
     },
     "output_type": "display_data"
    }
   ],
   "source": [
    "#use category plot to plot monthly revenue for each active subs category\n",
    "sns.catplot(x=\"ActiveSubs\", y=\"MonthlyRevenue\", data= cust_df) "
   ]
  },
  {
   "cell_type": "markdown",
   "metadata": {
    "id": "mkrnwbZhlFIU"
   },
   "source": [
    "<mark>__Result:__\n",
    "    \n",
    "The Category plot clearly signifies that high active subscribers did not lead to low monthly revenues but higher revenues. "
   ]
  },
  {
   "cell_type": "markdown",
   "metadata": {
    "id": "uZYchMbslFIU"
   },
   "source": [
    "### Q2.3 Does credit rating have an impact in churn rate?"
   ]
  },
  {
   "cell_type": "code",
   "execution_count": 15,
   "metadata": {
    "id": "VLQbrOxulFIU"
   },
   "outputs": [
    {
     "data": {
      "text/plain": [
       "<seaborn.axisgrid.FacetGrid at 0x19d1e20be20>"
      ]
     },
     "execution_count": 15,
     "metadata": {},
     "output_type": "execute_result"
    },
    {
     "data": {
      "image/png": "[encoded data removed]",
      "text/plain": [
       "<Figure size 412x360 with 1 Axes>"
      ]
     },
     "metadata": {
      "needs_background": "light"
     },
     "output_type": "display_data"
    }
   ],
   "source": [
    "#use category plot to plot churn rate for each credit rating\n",
    "sns.catplot(x=\"CreditRating\", y=\"MonthlyRevenue\", hue = 'Churn' ,data= cust_df) "
   ]
  },
  {
   "cell_type": "markdown",
   "metadata": {
    "id": "Tm9Kkol0lFIV"
   },
   "source": [
    "<mark>__Result:__\n",
    "    \n",
    "Based on the plot, we can infer that low credit ratings may lead to higher churn rate !"
   ]
  },
  {
   "cell_type": "markdown",
   "metadata": {
    "id": "okgnaKbclFIV"
   },
   "source": [
    "### Placeholder for additional exploratory analysis"
   ]
  },
  {
   "cell_type": "code",
   "execution_count": 17,
   "metadata": {
    "id": "bJkZDBualFIV"
   },
   "outputs": [
    {
     "data": {
      "text/plain": [
       "<Figure size 1440x1440 with 0 Axes>"
      ]
     },
     "execution_count": 17,
     "metadata": {},
     "output_type": "execute_result"
    },
    {
     "data": {
      "text/plain": [
       "<matplotlib.axes._subplots.AxesSubplot at 0x19d1e168310>"
      ]
     },
     "execution_count": 17,
     "metadata": {},
     "output_type": "execute_result"
    },
    {
     "data": {
      "image/png": "[encoded data removed]",
      "text/plain": [
       "<Figure size 1440x1440 with 2 Axes>"
      ]
     },
     "metadata": {
      "needs_background": "light"
     },
     "output_type": "display_data"
    }
   ],
   "source": [
    "#type your code here for any additional exploratory analysis (if any)\n",
    "plt.figure(figsize = (20, 20))\n",
    "sns.heatmap(cust_df.corr(), linewidth = 0.5, annot = False, fmt = \".2f\", cmap = 'viridis')"
   ]
  },
  {
   "cell_type": "markdown",
   "metadata": {
    "id": "1v8DwkhPlFIV"
   },
   "source": [
    "## Q3. Create additional features to help predict churn"
   ]
  },
  {
   "cell_type": "code",
   "execution_count": 18,
   "metadata": {
    "id": "Qtk8mg8OlFIW"
   },
   "outputs": [],
   "source": [
    "#wrapper function to create additional features for churn prediction\n",
    "def create_features(cust_df):\n",
    "    \n",
    "    #3.1 Percent of current active subs over total subs\n",
    "    cust_df['perc_active_subs'] = cust_df['ActiveSubs'] / cust_df['UniqueSubs']\n",
    "    \n",
    "    #3.2 Percent of recurrent charge to monthly charge\n",
    "    #type your code here to create a new column in cust_df\n",
    "    cust_df['perc_recurrent_charge']= cust_df['TotalRecurringCharge'] / cust_df['MonthlyRevenue'] \n",
    "    \n",
    "    #3.3 Percent of overage minutes over total monthly minutes\n",
    "    #type your code here to create a new column in cust_df\n",
    "    cust_df['perc_overage_minutes'] = cust_df['OverageMinutes'] / cust_df['MonthlyMinutes']\n",
    "    \n",
    "    return cust_df  \n"
   ]
  },
  {
   "cell_type": "code",
   "execution_count": 19,
   "metadata": {
    "id": "aVqGUbRIlFIW"
   },
   "outputs": [],
   "source": [
    "#Make a call to the feature engineering wrapper function for churn prediction\n",
    "cust_df=create_features(cust_df)\n"
   ]
  },
  {
   "cell_type": "markdown",
   "metadata": {
    "id": "VE-kdD_YlFIX"
   },
   "source": [
    "## Q4. Build classification model to predict customer churn month in advance"
   ]
  },
  {
   "cell_type": "markdown",
   "metadata": {
    "id": "-EqcNv6rlFIX"
   },
   "source": [
    "### Initial data processing for model building exercise"
   ]
  },
  {
   "cell_type": "code",
   "execution_count": 20,
   "metadata": {},
   "outputs": [
    {
     "data": {
      "text/plain": [
       "CustomerID                 0\n",
       "Churn                      0\n",
       "MonthlyRevenue             0\n",
       "MonthlyMinutes             0\n",
       "TotalRecurringCharge       0\n",
       "                        ... \n",
       "Occupation                 0\n",
       "MaritalStatus              0\n",
       "perc_active_subs           0\n",
       "perc_recurrent_charge      0\n",
       "perc_overage_minutes     633\n",
       "Length: 61, dtype: int64"
      ]
     },
     "execution_count": 20,
     "metadata": {},
     "output_type": "execute_result"
    }
   ],
   "source": [
    "cust_df.isnull().sum()"
   ]
  },
  {
   "cell_type": "code",
   "execution_count": 21,
   "metadata": {},
   "outputs": [],
   "source": [
    "cust_df.dropna(axis=0, how='any', thresh=None, subset=None, inplace = True)"
   ]
  },
  {
   "cell_type": "code",
   "execution_count": 22,
   "metadata": {
    "id": "pZlh5pYilFIX"
   },
   "outputs": [],
   "source": [
    "#Train - test split to train and test model accuracy\n",
    "from sklearn.model_selection import train_test_split\n",
    "\n",
    "#Define columns to be included in X and y\n",
    "X = cust_df.drop('Churn', axis = 1)\n",
    "y = cust_df['Churn']\n",
    "\n",
    "#Create dummy variables for all categorical variables\n",
    "X = pd.get_dummies(X)\n",
    "\n",
    "X_train, X_test, y_train, y_test = train_test_split(X, y, test_size=0.3, random_state=0)\n",
    "\n",
    "#Feature scaling for all continuous variable\n",
    "from sklearn.preprocessing import StandardScaler\n",
    "sc = StandardScaler()\n",
    "X_train = sc.fit_transform(X_train)\n",
    "X_test = sc.transform(X_test)\n",
    "\n"
   ]
  },
  {
   "cell_type": "code",
   "execution_count": 119,
   "metadata": {},
   "outputs": [
    {
     "data": {
      "text/plain": [
       "(42156, 840)"
      ]
     },
     "execution_count": 119,
     "metadata": {},
     "output_type": "execute_result"
    }
   ],
   "source": [
    "X.shape"
   ]
  },
  {
   "cell_type": "markdown",
   "metadata": {
    "id": "lj89clILlFIY"
   },
   "source": [
    "### Q4.1 Build a simple logistic regression model to predict churn and evaluate model accuracy on test data set\n"
   ]
  },
  {
   "cell_type": "code",
   "execution_count": 23,
   "metadata": {
    "id": "R3j70GX1lFIY"
   },
   "outputs": [
    {
     "data": {
      "text/plain": [
       "LogisticRegression(random_state=0, solver='liblinear')"
      ]
     },
     "execution_count": 23,
     "metadata": {},
     "output_type": "execute_result"
    }
   ],
   "source": [
    "#-------------------------------- Model training -------------------------------#\n",
    "\n",
    "#type your code to build logistic regression model on training data set\n",
    "from sklearn.linear_model import LogisticRegression\n",
    "classifier_logreg = LogisticRegression(solver = 'liblinear', random_state = 0)\n",
    "classifier_logreg.fit(X_train, y_train)"
   ]
  },
  {
   "cell_type": "code",
   "execution_count": 24,
   "metadata": {
    "id": "KlCdJ472lFIZ"
   },
   "outputs": [
    {
     "data": {
      "text/plain": [
       "array(['No', 'No', 'No', ..., 'No', 'No', 'No'], dtype=object)"
      ]
     },
     "execution_count": 24,
     "metadata": {},
     "output_type": "execute_result"
    },
    {
     "name": "stdout",
     "output_type": "stream",
     "text": [
      "Accuracy Score: 0.7116312168893809\n",
      "Train Data Score: 0.7201870615744349\n",
      "Test Data Score: 0.7116312168893809\n",
      "              precision    recall  f1-score   support\n",
      "\n",
      "          No       0.73      0.96      0.83      9141\n",
      "         Yes       0.38      0.06      0.11      3506\n",
      "\n",
      "    accuracy                           0.71     12647\n",
      "   macro avg       0.55      0.51      0.47     12647\n",
      "weighted avg       0.63      0.71      0.63     12647\n",
      "\n"
     ]
    }
   ],
   "source": [
    "#-------------------------------- Model testing ---------------------------------#\n",
    "\n",
    "#type your code here to predict for X_test data set using the fitted model\n",
    "y_pred = classifier_logreg.predict(X_test)\n",
    "y_pred\n",
    "\n",
    "#Use a probability threshold to classify customers as churners and non churners (Default = 0.5)\n",
    "from sklearn.metrics import accuracy_score\n",
    "print('Accuracy Score: {}'.format(accuracy_score(y_test, y_pred)))\n",
    "\n",
    "#Checking Overfitting and underfitting\n",
    "print('Train Data Score: {}'.format(classifier_logreg.score(X_train, y_train)))\n",
    "print('Test Data Score: {}'.format(classifier_logreg.score(X_test, y_test)))\n",
    "\n",
    "#Evaluate model accuracy using fitted y value and actual y_test\n",
    "#Evaluation metrics to be used - GINI, Precision, Recall, confusion matrix\n",
    "\n",
    "from sklearn.metrics import classification_report\n",
    "target_names = ['No', 'Yes']\n",
    "print(classification_report(y_test, y_pred, target_names=target_names))\n"
   ]
  },
  {
   "cell_type": "markdown",
   "metadata": {
    "id": "5c_9lNnclFIZ"
   },
   "source": [
    "### Q4.2 Build Random Forest classifier to compare model accuracy over the logistic regression model\n"
   ]
  },
  {
   "cell_type": "code",
   "execution_count": 25,
   "metadata": {
    "id": "-PqkT3eRlFIa"
   },
   "outputs": [
    {
     "data": {
      "text/plain": [
       "RandomForestClassifier(random_state=0)"
      ]
     },
     "execution_count": 25,
     "metadata": {},
     "output_type": "execute_result"
    }
   ],
   "source": [
    "#-------------------------------- Model training -------------------------------#\n",
    "from sklearn.metrics import classification_report, confusion_matrix\n",
    "from sklearn.ensemble import RandomForestClassifier\n",
    "#type your code to build random forest classifier model on training data set\n",
    "rfc = RandomForestClassifier(random_state=0)\n",
    "rfc.fit(X_train, y_train)"
   ]
  },
  {
   "cell_type": "code",
   "execution_count": 26,
   "metadata": {
    "id": "yoMJOpkvlFIa"
   },
   "outputs": [
    {
     "name": "stdout",
     "output_type": "stream",
     "text": [
      "Model accuracy score with 10 decision-trees : 0.7245\n",
      "              precision    recall  f1-score   support\n",
      "\n",
      "          No       0.73      0.99      0.84      9141\n",
      "         Yes       0.56      0.03      0.06      3506\n",
      "\n",
      "    accuracy                           0.72     12647\n",
      "   macro avg       0.64      0.51      0.45     12647\n",
      "weighted avg       0.68      0.72      0.62     12647\n",
      "\n"
     ]
    }
   ],
   "source": [
    "#-------------------------------- Model testing ---------------------------------#\n",
    "\n",
    "#type your code here to predict for X_test data set using the fitted RF model\n",
    "#Use a probability threshold to classify customers as churners and non churners (Default = 0.5)\n",
    "#Evaluate model accuracy using fitted y value and actual y_test\n",
    "#Evaluatio metrics to be used - GINI, Precision, Recall, confusion matrix\n",
    "\n",
    "y_pred = rfc.predict(X_test)\n",
    "print('Model accuracy score with 10 decision-trees : {0:0.4f}'. format(accuracy_score(y_test, y_pred)))\n",
    "\n",
    "from sklearn.metrics import classification_report\n",
    "\n",
    "print(classification_report(y_test, y_pred))"
   ]
  },
  {
   "cell_type": "markdown",
   "metadata": {
    "id": "iKAR6bUolFIb"
   },
   "source": [
    "<mark>__Result:__\n",
    "    \n",
    "Type your answer from the model building exercise here, i.e., which model has better accuracy and using what metrics?"
   ]
  },
  {
   "cell_type": "markdown",
   "metadata": {
    "id": "AixoKv9GlFIb"
   },
   "source": [
    "### Q4.3 Identify most important features impacting churn"
   ]
  },
  {
   "cell_type": "code",
   "execution_count": 27,
   "metadata": {
    "id": "k4T4iPJilFIc"
   },
   "outputs": [
    {
     "data": {
      "text/plain": [
       "<matplotlib.axes._subplots.AxesSubplot at 0x19d1da8ea60>"
      ]
     },
     "execution_count": 27,
     "metadata": {},
     "output_type": "execute_result"
    },
    {
     "data": {
      "text/plain": [
       "Text(0, 0.5, 'Features')"
      ]
     },
     "execution_count": 27,
     "metadata": {},
     "output_type": "execute_result"
    },
    {
     "data": {
      "text/plain": [
       "Text(0.5, 0, 'Feature Importance')"
      ]
     },
     "execution_count": 27,
     "metadata": {},
     "output_type": "execute_result"
    },
    {
     "data": {
      "text/plain": [
       "Text(0.5, 1.0, 'Feature importances Based on Random Forest Model')"
      ]
     },
     "execution_count": 27,
     "metadata": {},
     "output_type": "execute_result"
    },
    {
     "data": {
      "text/plain": [
       "Text(0.5, 0, 'Impurity-based feature importances')"
      ]
     },
     "execution_count": 27,
     "metadata": {},
     "output_type": "execute_result"
    },
    {
     "data": {
      "image/png": "[encoded data removed]",
      "text/plain": [
       "<Figure size 432x288 with 1 Axes>"
      ]
     },
     "metadata": {
      "needs_background": "light"
     },
     "output_type": "display_data"
    }
   ],
   "source": [
    "# Type your code here to plot the top 20 important predictor features impacting churn using the Random Forest model created\n",
    "feat_importances = pd.Series(rfc.feature_importances_, index= X.columns)\n",
    "feat_importances.nlargest(20).plot(kind='barh')\n",
    "plt.ylabel('Features')\n",
    "plt.xlabel('Feature Importance')\n",
    "plt.title(\"Feature importances Based on Random Forest Model\")\n",
    "plt.xlabel('Impurity-based feature importances')\n",
    "plt.show()"
   ]
  }
 ],
 "metadata": {
  "colab": {
   "name": "Project 8 Starter Code.ipynb",
   "provenance": []
  },
  "kernelspec": {
   "display_name": "Python 3",
   "language": "python",
   "name": "python3"
  },
  "language_info": {
   "codemirror_mode": {
    "name": "ipython",
    "version": 3
   },
   "file_extension": ".py",
   "mimetype": "text/x-python",
   "name": "python",
   "nbconvert_exporter": "python",
   "pygments_lexer": "ipython3",
   "version": "3.8.3"
  }
 },
 "nbformat": 4,
 "nbformat_minor": 1
}
